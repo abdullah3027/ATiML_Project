{
 "cells": [
  {
   "cell_type": "markdown",
   "id": "c57a3e08",
   "metadata": {},
   "source": [
    "Running Local Ollama by Installing it calling the command: ollama run llama3.\\\n",
    "This creates a local server after which we can install Python package ollama and use the model in IDEs."
   ]
  },
  {
   "cell_type": "code",
   "execution_count": 1,
   "id": "1e304513",
   "metadata": {},
   "outputs": [
    {
     "name": "stdout",
     "output_type": "stream",
     "text": [
      "Here's one:\n",
      "\n",
      "Elephants have a highly developed sense of empathy and self-awareness. In fact, studies have shown that they are able to recognize themselves in mirrors, a cognitive ability known as \"self-awareness\" or \"mirror self-recognition\". This is a rare ability shared by only a few species, including humans, chimpanzees, and dolphins.\n",
      "\n",
      "In one famous study, an elephant named Sri Lanka was presented with a mirror. At first, she didn't seem to notice the reflection staring back at her. But after some time, she touched the mirror with her trunk, as if trying to figure out what this strange new entity was. Then, in a surprising moment of self-awareness, she started touching her own trunk and ears while looking at them in the mirror! This showed that she had a sense of her own body and could recognize herself.\n",
      "\n",
      "This level of empathy and self-awareness is remarkable, especially considering elephants are known for their strong social bonds and complex communication. It's no wonder they're often referred to as \"the wise ones\"!\n"
     ]
    }
   ],
   "source": [
    "import ollama\n",
    "\n",
    "response = ollama.chat(\n",
    "    model=\"llama3\",\n",
    "    messages=[\n",
    "        {\n",
    "            \"role\": \"user\",\n",
    "            \"content\": \"Tell me an interesting fact about elephants\",\n",
    "        },\n",
    "    ],\n",
    ")\n",
    "print(response[\"message\"][\"content\"])"
   ]
  },
  {
   "cell_type": "code",
   "execution_count": 9,
   "id": "ae8d3010",
   "metadata": {},
   "outputs": [
    {
     "name": "stdout",
     "output_type": "stream",
     "text": [
      "models=[Model(model='llama3:latest', modified_at=datetime.datetime(2025, 5, 4, 20, 56, 38, 65693, tzinfo=TzInfo(+02:00)), digest='365c0bd3c000a25d28ddbf732fe1c6add414de7275464c4e4d1c3b5fcb5d8ad1', size=4661224676, details=ModelDetails(parent_model='', format='gguf', family='llama', families=['llama'], parameter_size='8.0B', quantization_level='Q4_0')), Model(model='gemma3:latest', modified_at=datetime.datetime(2025, 5, 4, 20, 49, 7, 628712, tzinfo=TzInfo(+02:00)), digest='a2af6cc3eb7fa8be8504abaf9b04e88f17a119ec3f04a3addf55f92841195f5a', size=3338801804, details=ModelDetails(parent_model='', format='gguf', family='gemma3', families=['gemma3'], parameter_size='4.3B', quantization_level='Q4_K_M'))]\n"
     ]
    }
   ],
   "source": [
    "import ollama\n",
    "\n",
    "print(ollama.list())"
   ]
  },
  {
   "cell_type": "code",
   "execution_count": 11,
   "id": "807b45a1",
   "metadata": {},
   "outputs": [
    {
     "name": "stdout",
     "output_type": "stream",
     "text": [
      "That's a fantastic question, and it's one that's fascinated scientists and people for centuries! The short answer is due to a phenomenon called **Rayleigh scattering**. Here's a breakdown of the explanation:\n",
      "\n",
      "**1. Sunlight and Colors:**\n",
      "\n",
      "* White sunlight is actually made up of *all* the colors of the rainbow – red, orange, yellow, green, blue, indigo, and violet. Think of a prism splitting light.\n",
      "\n",
      "**2. Rayleigh Scattering:**\n",
      "\n",
      "* As sunlight enters the Earth's atmosphere, it collides with tiny air molecules (mostly nitrogen and oxygen).\n",
      "* This collision causes the light to scatter in different directions.\n",
      "* **Rayleigh scattering** specifically refers to the scattering of electromagnetic radiation (like sunlight) by particles of a much smaller wavelength.  Crucially, *shorter wavelengths of light are scattered more strongly* than longer wavelengths.\n",
      "\n",
      "**3. Why Blue Specifically?**\n",
      "\n",
      "* Blue and violet light have the shortest wavelengths of visible light. Because of this, they are scattered *much* more intensely by the air molecules than other colors like red and orange.\n",
      "* Think of it like throwing small pebbles (blue light) versus larger rocks (red light). The small pebbles are deflected more easily.\n",
      "\n",
      "**4. What We See:**\n",
      "\n",
      "* Because blue light is scattered so much more, it's bounced around in all directions throughout the atmosphere. That's why we see blue light coming from all parts of the sky.\n",
      "* **Why not violet then?** Violet light is actually scattered *even more* than blue. However, there are a couple of reasons why the sky appears blue instead of violet:\n",
      "    * The sun emits slightly less violet light than blue light.\n",
      "    * Our eyes are more sensitive to blue light than violet.\n",
      "\n",
      "\n",
      "**Analogy:**\n",
      "\n",
      "Imagine a room full of tiny, colorful balls. If you throw a handful of small, bouncy balls (blue light) into the room, they’ll bounce around everywhere. If you throw a handful of large, heavy balls (red light), they'll mostly travel in a straight line.\n",
      "\n",
      "---\n",
      "\n",
      "**Resources for Further Learning:**\n",
      "\n",
      "* **NASA:** [https://science.nasa.gov/sky-science/why-is-the-sky-blue/](https://science.nasa.gov/sky-science/why-is-the-sky-blue/)\n",
      "* **Wikipedia:** [https://en.wikipedia.org/wiki/Rayleigh_scattering](https://en.wikipedia.org/wiki/Rayleigh_scattering)\n",
      "\n",
      "Do you want me to delve into any specific aspect of this explanation, such as:\n",
      "\n",
      "*   The effect at sunrise/sunset?\n",
      "*   How this relates to other scattering phenomena?\n",
      "That's a fantastic question, and it's one that's fascinated scientists and people for centuries! The short answer is due to a phenomenon called **Rayleigh scattering**. Here's a breakdown of the explanation:\n",
      "\n",
      "**1. Sunlight and Colors:**\n",
      "\n",
      "* White sunlight is actually made up of *all* the colors of the rainbow – red, orange, yellow, green, blue, indigo, and violet. Think of a prism splitting light.\n",
      "\n",
      "**2. Rayleigh Scattering:**\n",
      "\n",
      "* As sunlight enters the Earth's atmosphere, it collides with tiny air molecules (mostly nitrogen and oxygen).\n",
      "* This collision causes the light to scatter in different directions.\n",
      "* **Rayleigh scattering** specifically refers to the scattering of electromagnetic radiation (like sunlight) by particles of a much smaller wavelength.  Crucially, *shorter wavelengths of light are scattered more strongly* than longer wavelengths.\n",
      "\n",
      "**3. Why Blue Specifically?**\n",
      "\n",
      "* Blue and violet light have the shortest wavelengths of visible light. Because of this, they are scattered *much* more intensely by the air molecules than other colors like red and orange.\n",
      "* Think of it like throwing small pebbles (blue light) versus larger rocks (red light). The small pebbles are deflected more easily.\n",
      "\n",
      "**4. What We See:**\n",
      "\n",
      "* Because blue light is scattered so much more, it's bounced around in all directions throughout the atmosphere. That's why we see blue light coming from all parts of the sky.\n",
      "* **Why not violet then?** Violet light is actually scattered *even more* than blue. However, there are a couple of reasons why the sky appears blue instead of violet:\n",
      "    * The sun emits slightly less violet light than blue light.\n",
      "    * Our eyes are more sensitive to blue light than violet.\n",
      "\n",
      "\n",
      "**Analogy:**\n",
      "\n",
      "Imagine a room full of tiny, colorful balls. If you throw a handful of small, bouncy balls (blue light) into the room, they’ll bounce around everywhere. If you throw a handful of large, heavy balls (red light), they'll mostly travel in a straight line.\n",
      "\n",
      "---\n",
      "\n",
      "**Resources for Further Learning:**\n",
      "\n",
      "* **NASA:** [https://science.nasa.gov/sky-science/why-is-the-sky-blue/](https://science.nasa.gov/sky-science/why-is-the-sky-blue/)\n",
      "* **Wikipedia:** [https://en.wikipedia.org/wiki/Rayleigh_scattering](https://en.wikipedia.org/wiki/Rayleigh_scattering)\n",
      "\n",
      "Do you want me to delve into any specific aspect of this explanation, such as:\n",
      "\n",
      "*   The effect at sunrise/sunset?\n",
      "*   How this relates to other scattering phenomena?\n"
     ]
    }
   ],
   "source": [
    "from ollama import chat\n",
    "from ollama import ChatResponse\n",
    "\n",
    "response: ChatResponse = chat(model='gemma3', messages=[\n",
    "  {\n",
    "    'role': 'user',\n",
    "    'content': 'Why is the sky blue?',\n",
    "  },\n",
    "])\n",
    "print(response['message']['content'])\n",
    "# or access fields directly from the response object\n",
    "print(response.message.content)"
   ]
  },
  {
   "cell_type": "code",
   "execution_count": 12,
   "id": "22e314d9",
   "metadata": {},
   "outputs": [
    {
     "name": "stdout",
     "output_type": "stream",
     "text": [
      "Why did the AI break up with the programmer? \n",
      "\n",
      "Because it said, \"I need some space... and a bigger dataset!\" 😂 \n",
      "\n",
      "---\n",
      "\n",
      "Would you like to hear another joke?\n"
     ]
    }
   ],
   "source": [
    "import requests\n",
    "\n",
    "response = requests.post(\"http://localhost:11434/api/generate\", json={\n",
    "    \"model\": \"gemma3\",\n",
    "    \"prompt\": \"Tell me a joke about AI.\",\n",
    "    \"stream\": False\n",
    "})\n",
    "\n",
    "print(response.json()[\"response\"])"
   ]
  },
  {
   "cell_type": "code",
   "execution_count": null,
   "id": "480d3e09",
   "metadata": {},
   "outputs": [],
   "source": []
  }
 ],
 "metadata": {
  "kernelspec": {
   "display_name": "Python 3",
   "language": "python",
   "name": "python3"
  },
  "language_info": {
   "codemirror_mode": {
    "name": "ipython",
    "version": 3
   },
   "file_extension": ".py",
   "mimetype": "text/x-python",
   "name": "python",
   "nbconvert_exporter": "python",
   "pygments_lexer": "ipython3",
   "version": "3.9.13"
  }
 },
 "nbformat": 4,
 "nbformat_minor": 5
}
